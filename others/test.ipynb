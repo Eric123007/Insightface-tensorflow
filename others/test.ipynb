{
 "cells": [
  {
   "cell_type": "code",
   "execution_count": 21,
   "metadata": {},
   "outputs": [
    {
     "name": "stderr",
     "output_type": "stream",
     "text": [
      "D:\\Anaconda3\\lib\\site-packages\\pymysql\\cursors.py:170: Warning: (1007, \"Can't create database 'face_db'; database exists\")\n",
      "  result = self._query(query)\n",
      "D:\\Anaconda3\\lib\\site-packages\\pymysql\\cursors.py:170: Warning: (1050, \"Table 'face_data' already exists\")\n",
      "  result = self._query(query)\n"
     ]
    },
    {
     "name": "stdout",
     "output_type": "stream",
     "text": [
      "()\n",
      "[]\n",
      "[5]\n",
      "[5]\n",
      "(5, 1, 512)\n",
      "(7, 1, 512)\n"
     ]
    },
    {
     "data": {
      "text/plain": [
       "5"
      ]
     },
     "execution_count": 21,
     "metadata": {},
     "output_type": "execute_result"
    }
   ],
   "source": [
    "import numpy as np\n",
    "import pymysql\n",
    "import os\n",
    "import cv2\n",
    "from collections import namedtuple\n",
    "\n",
    "User = namedtuple('User', ['table', 'load_l2_dir', 'load_raw_dir'])\n",
    "self = User(table=\"face_data\",load_l2_dir=\"./save/l2.npy\" ,load_raw_dir=\"./save/raw.npy\" )\n",
    "input_dir = \"./pic3\"\n",
    "replace_flag =True\n",
    "db = pymysql.connect(host=\"localhost\", user=\"root\", password=\"qiqi39\", port=3306, charset=\"utf8\" )\n",
    "cursor = db.cursor()\n",
    "# cursor.execute(\"DROP DATABASE IF EXISTS face_db\")\n",
    "cursor.execute(\"CREATE DATABASE IF NOT EXISTS face_db\")\n",
    "cursor.execute(\"USE face_db;\")\n",
    "cursor.execute(\"ALTER database face_db character SET gbk;\")\n",
    "cursor.execute(\"CREATE TABLE IF NOT EXISTS face_data(FaceName VARCHAR(20), EmbdNums INT, ColumnNum INT);\")\n",
    "\n",
    "\n",
    "\n",
    "input_lists = os.listdir(input_dir)\n",
    "cursor.execute(\"alter table %s add Crement int;\"%(self.table))\n",
    "cursor.execute(\"alter table %s change crement crement int not null auto_increment primary key;\"%(self.table))\n",
    "cursor.execute(\"SELECT Crement-1 FROM %s WHERE Crement-1 NOT IN (SELECT ColumnNum FROM %s) ;\"%(self.table,self.table))\n",
    "ColumnNum_data_loss = cursor.fetchall()\n",
    "print(ColumnNum_data_loss)\n",
    "if not os.path.exists(self.load_l2_dir):\n",
    "    label = list(range(len(input_lists)))\n",
    "    embds_db = np.zeros((len(input_lists)+1, 1, 512))\n",
    "    embds = np.zeros((len(input_lists)+1, 1, 512))\n",
    "else:\n",
    "    embds_db = np.load(self.load_l2_dir) \n",
    "    embds = np.load(self.load_raw_dir)\n",
    "    row,_,_ = embds_db.shape        \n",
    "    label_data = [_[0] for _ in ColumnNum_data_loss]\n",
    "    print(label_data)\n",
    "    expand_label = list(range(row,row + len(input_lists) - len(label_data)))\n",
    "    label = label_data + expand_label\n",
    "    \n",
    "    print(label)\n",
    "    print(expand_label)\n",
    "    print(embds_db.shape)    \n",
    "    embds_db = np.row_stack((embds_db, np.zeros((len(expand_label)+1, 1, 512))))\n",
    "    embds = np.row_stack((embds, np.zeros((len(expand_label)+1, 1, 512))))\n",
    "    print(embds_db.shape)\n",
    "    \n",
    "nonface_num =0    \n",
    "idx = 0\n",
    "kkk=20\n",
    "embd=np.zeros((1,512))\n",
    "for person_name in input_lists:\n",
    "\n",
    "    _subdir = os.path.join(input_dir, person_name)\n",
    "\n",
    "    if not os.path.isdir(_subdir):\n",
    "        continue\n",
    "\n",
    "    num = 0.0\n",
    "    embd_tp_save = np.zeros((1,512))\n",
    "    for img_name in os.listdir(_subdir):\n",
    "\n",
    "        image_path = os.path.join(_subdir, img_name)\n",
    "        \n",
    "        embd+=1\n",
    "\n",
    "        num += 1\n",
    "        embd_tp_save += embd\n",
    "\n",
    "    if(all((embd_tp_save==np.zeros((1,512)))[0])):\n",
    "        print(person_name+\" has no face to detect\")\n",
    "        nonface_num+=1\n",
    "        continue\n",
    "    else:\n",
    "        embd_tp_save /= num   \n",
    "        \n",
    "    cursor.execute(\"select count(*) from %s where FaceName ='%s';\"%(self.table, person_name))\n",
    "    name_exists = cursor.fetchall()[0][0]\n",
    "\n",
    "    if name_exists:\n",
    "        \n",
    "        nonface_num+=1\n",
    "        cursor.execute(\"select EmbdNums,ColumnNum from %s where FaceName ='%s';\"%(self.table, person_name))\n",
    "        EmbdNums,ColumnNum = cursor.fetchall()[0]         \n",
    "        if not replace_flag:\n",
    " \n",
    "            embd_all = (embds[ColumnNum,:] * EmbdNums) + (embd_tp_save * num)\n",
    "            embds[ColumnNum,:] = embd_all/(EmbdNums + num)\n",
    "            embds_db[ColumnNum,:] = embd_all/np.linalg.norm(embd_all, axis=1, keepdims=True)\n",
    "        else:\n",
    "            embds_db[ColumnNum,:] = embd_tp_save/np.linalg.norm(embd_tp_save, axis=1, keepdims=True)\n",
    "            embds[ColumnNum,:] = embd_tp_save\n",
    "            EmbdNums = 0\n",
    "\n",
    "        try:\n",
    "            cursor.execute(\"UPDATE %s SET EmbdNums = %d WHERE FaceName = '%s';\"%(self.table, EmbdNums + num, person_name))\n",
    "            db.commit()\n",
    "        except:\n",
    "            db.rollback()\n",
    "            raise Exception('''mysql \"UPDATE\" action error in FaceName %d\"'''%(person_name))\n",
    "\n",
    "    else:    \n",
    "        embds[label[idx],:] = embd_tp_save\n",
    "        embds_db[label[idx],:] = embd_tp_save/np.linalg.norm(embd_tp_save, axis=1, keepdims=True)\n",
    "        # num represents numbers of embd,label represents the column number\n",
    "\n",
    "        try:\n",
    "            cursor.execute(\"INSERT INTO face_data(FaceName,EmbdNums, ColumnNum) VALUES ('%s', %.4f, %d)\"%(person_name, num, label[idx]))\n",
    "            db.commit()\n",
    "        except:\n",
    "            db.rollback()\n",
    "            raise Exception('''mysql \"INSERT\" action error in label %d\"'''%(label[idx]))\n",
    "\n",
    "        idx += 1\n",
    "\n",
    "np.save(self.load_l2_dir, embds_db[:-1-nonface_num,])  \n",
    "np.save(self.load_raw_dir, embds[:-1-nonface_num,]) \n",
    "\n",
    "cursor.execute(\"alter table %s drop column Crement;\"%(self.table))"
   ]
  },
  {
   "cell_type": "code",
   "execution_count": 11,
   "metadata": {},
   "outputs": [
    {
     "data": {
      "text/plain": [
       "4"
      ]
     },
     "execution_count": 11,
     "metadata": {},
     "output_type": "execute_result"
    }
   ],
   "source": [
    "cursor.execute(\"alter table %s drop column Crement;\"%(self.table))"
   ]
  },
  {
   "cell_type": "code",
   "execution_count": 4,
   "metadata": {},
   "outputs": [],
   "source": [
    "cursor.execute(\"delete from %s where FaceName='%s';\"%(self.table, \"c\"))\n",
    "db.commit()"
   ]
  },
  {
   "cell_type": "code",
   "execution_count": 22,
   "metadata": {},
   "outputs": [
    {
     "data": {
      "text/plain": [
       "(('a', 5, 0), ('b', 1, 1), ('d', 6, 3), ('fw', 1, 2), ('e', 1, 4))"
      ]
     },
     "execution_count": 22,
     "metadata": {},
     "output_type": "execute_result"
    }
   ],
   "source": [
    "cursor.execute(\"SELECT * FROM face_data;\")\n",
    "\n",
    "cursor.fetchall()"
   ]
  },
  {
   "cell_type": "code",
   "execution_count": 23,
   "metadata": {},
   "outputs": [
    {
     "data": {
      "text/plain": [
       "array([[[ 1.4,  1.4,  1.4, ...,  1.4,  1.4,  1.4]],\n",
       "\n",
       "       [[ 3. ,  3. ,  3. , ...,  3. ,  3. ,  3. ]],\n",
       "\n",
       "       [[ 1. ,  1. ,  1. , ...,  1. ,  1. ,  1. ]],\n",
       "\n",
       "       [[10.5, 10.5, 10.5, ..., 10.5, 10.5, 10.5]],\n",
       "\n",
       "       [[ 3. ,  3. ,  3. , ...,  3. ,  3. ,  3. ]]])"
      ]
     },
     "execution_count": 23,
     "metadata": {},
     "output_type": "execute_result"
    }
   ],
   "source": [
    "np.load(self.load_raw_dir)"
   ]
  },
  {
   "cell_type": "code",
   "execution_count": 24,
   "metadata": {},
   "outputs": [
    {
     "name": "stdout",
     "output_type": "stream",
     "text": [
      "1\n"
     ]
    }
   ],
   "source": [
    "try:\n",
    "    a=1/0\n",
    "    \n",
    "except:\n",
    "    print(1)"
   ]
  },
  {
   "cell_type": "code",
   "execution_count": 19,
   "metadata": {},
   "outputs": [
    {
     "data": {
      "text/plain": [
       "array([[[0.04419417, 0.04419417, 0.04419417, ..., 0.04419417,\n",
       "         0.04419417, 0.04419417]],\n",
       "\n",
       "       [[0.04419417, 0.04419417, 0.04419417, ..., 0.04419417,\n",
       "         0.04419417, 0.04419417]],\n",
       "\n",
       "       [[0.04419417, 0.04419417, 0.04419417, ..., 0.04419417,\n",
       "         0.04419417, 0.04419417]],\n",
       "\n",
       "       [[0.04419417, 0.04419417, 0.04419417, ..., 0.04419417,\n",
       "         0.04419417, 0.04419417]],\n",
       "\n",
       "       [[0.04419417, 0.04419417, 0.04419417, ..., 0.04419417,\n",
       "         0.04419417, 0.04419417]]])"
      ]
     },
     "execution_count": 19,
     "metadata": {},
     "output_type": "execute_result"
    }
   ],
   "source": [
    "np.load(self.load_l2_dir)"
   ]
  },
  {
   "cell_type": "code",
   "execution_count": 1,
   "metadata": {},
   "outputs": [
    {
     "data": {
      "text/plain": [
       "0"
      ]
     },
     "execution_count": 1,
     "metadata": {},
     "output_type": "execute_result"
    }
   ],
   "source": [
    "import pymysql\n",
    "db = pymysql.connect(host=\"localhost\", user=\"root\", password=\"qiqi39\", port=3306, charset=\"utf8\" )\n",
    "cursor = db.cursor()\n",
    "cursor.execute(\"DROP DATABASE IF EXISTS face_db\")\n",
    "cursor.execute(\"CREATE DATABASE IF NOT EXISTS face_db\")\n",
    "cursor.execute(\"USE face_db;\")\n",
    "cursor.execute(\"ALTER database face_db character SET gbk;\")\n",
    "cursor.execute(\"CREATE TABLE IF NOT EXISTS face_data(FaceName VARCHAR(20), EmbdNums INT, ColumnNum INT);\")"
   ]
  },
  {
   "cell_type": "code",
   "execution_count": 4,
   "metadata": {},
   "outputs": [
    {
     "data": {
      "text/plain": [
       "(('FaceName', 'varchar(20)', 'YES', '', None, ''),\n",
       " ('EmbdNums', 'int(11)', 'YES', '', None, ''),\n",
       " ('ColumnNum', 'int(11)', 'YES', '', None, ''))"
      ]
     },
     "execution_count": 4,
     "metadata": {},
     "output_type": "execute_result"
    }
   ],
   "source": [
    "cursor.execute(\"desc face_data;\")\n",
    "cursor.fetchall()"
   ]
  },
  {
   "cell_type": "code",
   "execution_count": 2,
   "metadata": {},
   "outputs": [],
   "source": [
    "\n",
    "# DROP PROCEDURE IF EXISTS schema_change;  \n",
    "# DELIMITER $ \n",
    "# CREATE PROCEDURE schema_change() \n",
    "# BEGIN DECLARE  CurrentDatabase VARCHAR(100);\n",
    "# SELECT DATABASE() INTO CurrentDatabase;\n",
    "# IF EXISTS (SELECT * FROM information_schema.columns \n",
    "# WHERE table_schema=CurrentDatabase AND table_name = 'face_data' AND column_name = 'ColumnNum') \n",
    "# THEN  ALTER TABLE face_data DROP COLUMN ColumnNum;\n",
    "# END IF;  \n",
    "# END $  \n",
    "# DELIMITER ;  \n",
    "# CALL schema_change();\n",
    "\n",
    "# cursor.execute(sql)\n",
    "# cursor.execute(\"desc face_data;\")\n",
    "# cursor.fetchall()"
   ]
  },
  {
   "cell_type": "code",
   "execution_count": 2,
   "metadata": {},
   "outputs": [
    {
     "data": {
      "text/plain": [
       "()"
      ]
     },
     "execution_count": 2,
     "metadata": {},
     "output_type": "execute_result"
    }
   ],
   "source": [
    "cursor.execute(\"SELECT * FROM face_data;\")\n",
    "cursor.fetchall()"
   ]
  },
  {
   "cell_type": "code",
   "execution_count": 34,
   "metadata": {},
   "outputs": [
    {
     "data": {
      "text/plain": [
       "((1,),)"
      ]
     },
     "execution_count": 34,
     "metadata": {},
     "output_type": "execute_result"
    }
   ],
   "source": [
    "cursor.execute(\"select count(*) from information_schema.columns where table_name = 'face_data' and column_name = 'FaceName';\")\n",
    "cursor.fetchall()"
   ]
  },
  {
   "cell_type": "code",
   "execution_count": null,
   "metadata": {},
   "outputs": [],
   "source": []
  },
  {
   "cell_type": "code",
   "execution_count": null,
   "metadata": {},
   "outputs": [],
   "source": []
  },
  {
   "cell_type": "code",
   "execution_count": 1,
   "metadata": {},
   "outputs": [],
   "source": [
    "import cv2\n",
    "img = cv2.imread(\"./mage-2019-3.png\")"
   ]
  },
  {
   "cell_type": "code",
   "execution_count": 1,
   "metadata": {},
   "outputs": [
    {
     "data": {
      "text/plain": [
       "-1"
      ]
     },
     "execution_count": 1,
     "metadata": {},
     "output_type": "execute_result"
    }
   ],
   "source": [
    "import cv2\n",
    "img = cv2.imread(\"./mage-2019-3.png\")\n",
    "cv2.rectangle(img, (30,30), (80, 80), (255, 255, 255), thickness=2)\n",
    "cv2.putText(img, \"haha\", (30,30), cv2.FONT_HERSHEY_COMPLEX, 0.7, (0, 255, 0),\n",
    "           thickness=2)\n",
    "cv2.imshow('head', img)\n",
    "cv2.waitKey(0)"
   ]
  },
  {
   "cell_type": "code",
   "execution_count": null,
   "metadata": {},
   "outputs": [],
   "source": [
    "\n",
    "cv.rectangle(img, (x1, y1), (x2, y2), (255, 255, 255), thickness=2)\n",
    "cv.putText(img, objectname, (x1, y1), cv.FONT_HERSHEY_COMPLEX, 0.7, (0, 255, 0),\n",
    "           thickness=2)\n",
    "cv.imshow('head', img)\n"
   ]
  },
  {
   "cell_type": "code",
   "execution_count": null,
   "metadata": {},
   "outputs": [],
   "source": []
  }
 ],
 "metadata": {
  "kernelspec": {
   "display_name": "Python 3",
   "language": "python",
   "name": "python3"
  },
  "language_info": {
   "codemirror_mode": {
    "name": "ipython",
    "version": 3
   },
   "file_extension": ".py",
   "mimetype": "text/x-python",
   "name": "python",
   "nbconvert_exporter": "python",
   "pygments_lexer": "ipython3",
   "version": "3.6.5"
  }
 },
 "nbformat": 4,
 "nbformat_minor": 2
}
